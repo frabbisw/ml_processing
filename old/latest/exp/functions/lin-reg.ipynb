{
 "cells": [
  {
   "cell_type": "code",
   "execution_count": 29,
   "metadata": {},
   "outputs": [],
   "source": [
    "# Render our plots inline\n",
    "%matplotlib inline\n",
    "\n",
    "import numpy as np\n",
    "import math\n",
    "import pandas as pd"
   ]
  },
  {
   "cell_type": "code",
   "execution_count": 30,
   "metadata": {},
   "outputs": [],
   "source": [
    "import matplotlib.pyplot as plt"
   ]
  },
  {
   "cell_type": "code",
   "execution_count": 31,
   "metadata": {},
   "outputs": [],
   "source": [
    "from sklearn.linear_model import LinearRegression\n",
    "from sklearn.cross_validation import train_test_split\n",
    "from sklearn import metrics\n",
    "from sklearn.metrics import r2_score"
   ]
  },
  {
   "cell_type": "code",
   "execution_count": 32,
   "metadata": {},
   "outputs": [],
   "source": [
    "import statsmodels.api as sm\n",
    "from scipy import stats"
   ]
  },
  {
   "cell_type": "code",
   "execution_count": 33,
   "metadata": {},
   "outputs": [],
   "source": [
    "birthrate = pd.read_csv(\"birth_stat_data.csv\")"
   ]
  },
  {
   "cell_type": "code",
   "execution_count": 34,
   "metadata": {},
   "outputs": [],
   "source": [
    "dec_name='birth'\n",
    "feat_names = list(birthrate.columns)\n",
    "dec_names = [dec_name]"
   ]
  },
  {
   "cell_type": "code",
   "execution_count": 35,
   "metadata": {},
   "outputs": [],
   "source": [
    "feat_names.remove(dec_name)"
   ]
  },
  {
   "cell_type": "code",
   "execution_count": 36,
   "metadata": {},
   "outputs": [],
   "source": [
    "X = birthrate[feat_names]\n",
    "y = birthrate[dec_names]"
   ]
  },
  {
   "cell_type": "code",
   "execution_count": 37,
   "metadata": {},
   "outputs": [],
   "source": [
    "X_train, X_test, y_train, y_test = train_test_split(X, y)"
   ]
  },
  {
   "cell_type": "code",
   "execution_count": 38,
   "metadata": {},
   "outputs": [
    {
     "data": {
      "text/plain": [
       "LinearRegression(copy_X=True, fit_intercept=True, n_jobs=1, normalize=True)"
      ]
     },
     "execution_count": 38,
     "metadata": {},
     "output_type": "execute_result"
    }
   ],
   "source": [
    "linreg = LinearRegression(normalize=True)\n",
    "linreg.fit(X_train, y_train)"
   ]
  },
  {
   "cell_type": "code",
   "execution_count": 39,
   "metadata": {},
   "outputs": [
    {
     "name": "stdout",
     "output_type": "stream",
     "text": [
      "[-3.75997849e+12]\n",
      "[[ 6.48243381e-03  4.94384806e-02 -5.63321418e-02 -8.69264989e-02\n",
      "  -3.90072494e-02 -1.21502658e-01 -8.42444091e-02  2.73772212e-02\n",
      "  -7.75804681e-01  1.54926523e-01  1.43346845e+13 -1.13616673e-01\n",
      "   3.77481363e-01 -1.43346845e+13 -1.43346845e+13  4.06352832e+12\n",
      "   4.06352832e+12  4.06352832e+12 -3.03549824e+11 -3.03549824e+11\n",
      "  -3.03549824e+11 -3.03549824e+11 -3.03549824e+11]]\n"
     ]
    }
   ],
   "source": [
    "print(linreg.intercept_)\n",
    "print(linreg.coef_)"
   ]
  },
  {
   "cell_type": "code",
   "execution_count": 40,
   "metadata": {},
   "outputs": [],
   "source": [
    "y_pred = linreg.predict(X_test)"
   ]
  },
  {
   "cell_type": "code",
   "execution_count": 41,
   "metadata": {},
   "outputs": [
    {
     "data": {
      "text/plain": [
       "0.6410304798799402"
      ]
     },
     "execution_count": 41,
     "metadata": {},
     "output_type": "execute_result"
    }
   ],
   "source": [
    "metrics.mean_absolute_error(y_test, y_pred)"
   ]
  },
  {
   "cell_type": "code",
   "execution_count": 42,
   "metadata": {},
   "outputs": [
    {
     "data": {
      "text/plain": [
       "0.8200305168900419"
      ]
     },
     "execution_count": 42,
     "metadata": {},
     "output_type": "execute_result"
    }
   ],
   "source": [
    "metrics.mean_squared_error(y_test, y_pred)"
   ]
  },
  {
   "cell_type": "code",
   "execution_count": 43,
   "metadata": {},
   "outputs": [
    {
     "data": {
      "text/plain": [
       "0.8006437908832743"
      ]
     },
     "execution_count": 43,
     "metadata": {},
     "output_type": "execute_result"
    }
   ],
   "source": [
    "np.sqrt(metrics.mean_absolute_error(y_test, y_pred))"
   ]
  },
  {
   "cell_type": "code",
   "execution_count": 44,
   "metadata": {},
   "outputs": [
    {
     "name": "stdout",
     "output_type": "stream",
     "text": [
      "Coefficients: \n",
      " [[ 6.48243381e-03  4.94384806e-02 -5.63321418e-02 -8.69264989e-02\n",
      "  -3.90072494e-02 -1.21502658e-01 -8.42444091e-02  2.73772212e-02\n",
      "  -7.75804681e-01  1.54926523e-01  1.43346845e+13 -1.13616673e-01\n",
      "   3.77481363e-01 -1.43346845e+13 -1.43346845e+13  4.06352832e+12\n",
      "   4.06352832e+12  4.06352832e+12 -3.03549824e+11 -3.03549824e+11\n",
      "  -3.03549824e+11 -3.03549824e+11 -3.03549824e+11]]\n"
     ]
    },
    {
     "data": {
      "text/plain": [
       "array([[ 6.48243381e-03],\n",
       "       [ 4.94384806e-02],\n",
       "       [-5.63321418e-02],\n",
       "       [-8.69264989e-02],\n",
       "       [-3.90072494e-02],\n",
       "       [-1.21502658e-01],\n",
       "       [-8.42444091e-02],\n",
       "       [ 2.73772212e-02],\n",
       "       [-7.75804681e-01],\n",
       "       [ 1.54926523e-01],\n",
       "       [ 1.43346845e+13],\n",
       "       [-1.13616673e-01],\n",
       "       [ 3.77481363e-01],\n",
       "       [-1.43346845e+13],\n",
       "       [-1.43346845e+13],\n",
       "       [ 4.06352832e+12],\n",
       "       [ 4.06352832e+12],\n",
       "       [ 4.06352832e+12],\n",
       "       [-3.03549824e+11],\n",
       "       [-3.03549824e+11],\n",
       "       [-3.03549824e+11],\n",
       "       [-3.03549824e+11],\n",
       "       [-3.03549824e+11]])"
      ]
     },
     "execution_count": 44,
     "metadata": {},
     "output_type": "execute_result"
    }
   ],
   "source": [
    "print('Coefficients: \\n', linreg.coef_)\n",
    "coef = np.array(linreg.coef_)\n",
    "coef.reshape(coef.size,1)"
   ]
  },
  {
   "cell_type": "code",
   "execution_count": 45,
   "metadata": {},
   "outputs": [
    {
     "name": "stdout",
     "output_type": "stream",
     "text": [
      "Variance: \n",
      " 0.5854845438296062\n"
     ]
    }
   ],
   "source": [
    "print('Variance: \\n', r2_score(y_test, y_pred))"
   ]
  },
  {
   "cell_type": "code",
   "execution_count": 46,
   "metadata": {},
   "outputs": [
    {
     "data": {
      "text/plain": [
       "<matplotlib.collections.PathCollection at 0x7f899aa130f0>"
      ]
     },
     "execution_count": 46,
     "metadata": {},
     "output_type": "execute_result"
    },
    {
     "data": {
      "image/png": "[encoded data removed]",
      "text/plain": [
       "<Figure size 432x288 with 1 Axes>"
      ]
     },
     "metadata": {},
     "output_type": "display_data"
    }
   ],
   "source": [
    "plt.scatter(y_test, y_pred, color='green')"
   ]
  }
 ],
 "metadata": {
  "kernelspec": {
   "display_name": "Python 3",
   "language": "python",
   "name": "python3"
  },
  "language_info": {
   "codemirror_mode": {
    "name": "ipython",
    "version": 3
   },
   "file_extension": ".py",
   "mimetype": "text/x-python",
   "name": "python",
   "nbconvert_exporter": "python",
   "pygments_lexer": "ipython3",
   "version": "3.5.2"
  }
 },
 "nbformat": 4,
 "nbformat_minor": 2
}
