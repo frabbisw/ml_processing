{
 "cells": [
  {
   "cell_type": "code",
   "execution_count": 17,
   "metadata": {},
   "outputs": [],
   "source": [
    "# Render our plots inline\n",
    "%matplotlib inline\n",
    "\n",
    "import numpy as np\n",
    "import math\n",
    "import pandas as pd"
   ]
  },
  {
   "cell_type": "code",
   "execution_count": 18,
   "metadata": {},
   "outputs": [],
   "source": [
    "import matplotlib.pyplot as plt"
   ]
  },
  {
   "cell_type": "code",
   "execution_count": 19,
   "metadata": {},
   "outputs": [],
   "source": [
    "from sklearn.linear_model import LinearRegression\n",
    "from sklearn.cross_validation import train_test_split\n",
    "from sklearn import metrics"
   ]
  },
  {
   "cell_type": "code",
   "execution_count": 20,
   "metadata": {},
   "outputs": [],
   "source": [
    "import statsmodels.api as sm\n",
    "from scipy import stats"
   ]
  },
  {
   "cell_type": "code",
   "execution_count": 21,
   "metadata": {},
   "outputs": [],
   "source": [
    "birthrate = pd.read_csv(\"birth_stat_data.csv\")"
   ]
  },
  {
   "cell_type": "code",
   "execution_count": null,
   "metadata": {},
   "outputs": [],
   "source": [
    "birthrate[:3]"
   ]
  },
  {
   "cell_type": "code",
   "execution_count": 6,
   "metadata": {},
   "outputs": [],
   "source": [
    "dec_name='birth'\n",
    "feat_names = list(birthrate.columns)\n",
    "dec_names = [dec_name]"
   ]
  },
  {
   "cell_type": "code",
   "execution_count": 7,
   "metadata": {},
   "outputs": [],
   "source": [
    "feat_names.remove(dec_name)"
   ]
  },
  {
   "cell_type": "code",
   "execution_count": 8,
   "metadata": {},
   "outputs": [],
   "source": [
    "X = birthrate[feat_names]\n",
    "y = birthrate[dec_names]"
   ]
  },
  {
   "cell_type": "code",
   "execution_count": 9,
   "metadata": {},
   "outputs": [],
   "source": [
    "X_train, X_test, y_train, y_test = train_test_split(X, y)"
   ]
  },
  {
   "cell_type": "code",
   "execution_count": 10,
   "metadata": {},
   "outputs": [
    {
     "data": {
      "text/plain": [
       "LinearRegression(copy_X=True, fit_intercept=True, n_jobs=1, normalize=True)"
      ]
     },
     "execution_count": 10,
     "metadata": {},
     "output_type": "execute_result"
    }
   ],
   "source": [
    "linreg = LinearRegression(normalize=True)\n",
    "linreg.fit(X_train, y_train)"
   ]
  },
  {
   "cell_type": "code",
   "execution_count": 11,
   "metadata": {},
   "outputs": [
    {
     "name": "stdout",
     "output_type": "stream",
     "text": [
      "[1.88819122]\n",
      "[[-0.0316325   0.0071596   0.04975184 -0.05650324 -0.09147543 -0.03786893\n",
      "  -0.13601952 -0.08344626  0.0341886   0.02061531 -0.76363615  0.15485716\n",
      "   0.43193329  0.11099799  0.40792455  0.52337998  0.50750559]]\n"
     ]
    }
   ],
   "source": [
    "print(linreg.intercept_)\n",
    "print(linreg.coef_)"
   ]
  },
  {
   "cell_type": "code",
   "execution_count": 12,
   "metadata": {},
   "outputs": [],
   "source": [
    "y_pred = linreg.predict(X_test)"
   ]
  },
  {
   "cell_type": "code",
   "execution_count": 13,
   "metadata": {},
   "outputs": [
    {
     "data": {
      "text/plain": [
       "0.6359736584182096"
      ]
     },
     "execution_count": 13,
     "metadata": {},
     "output_type": "execute_result"
    }
   ],
   "source": [
    "metrics.mean_absolute_error(y_test, y_pred)"
   ]
  },
  {
   "cell_type": "code",
   "execution_count": 14,
   "metadata": {},
   "outputs": [
    {
     "data": {
      "text/plain": [
       "0.8014535467046182"
      ]
     },
     "execution_count": 14,
     "metadata": {},
     "output_type": "execute_result"
    }
   ],
   "source": [
    "metrics.mean_squared_error(y_test, y_pred)"
   ]
  },
  {
   "cell_type": "code",
   "execution_count": 15,
   "metadata": {},
   "outputs": [
    {
     "data": {
      "text/plain": [
       "0.7974795661446189"
      ]
     },
     "execution_count": 15,
     "metadata": {},
     "output_type": "execute_result"
    }
   ],
   "source": [
    "np.sqrt(metrics.mean_absolute_error(y_test, y_pred))"
   ]
  },
  {
   "cell_type": "code",
   "execution_count": 16,
   "metadata": {},
   "outputs": [
    {
     "name": "stdout",
     "output_type": "stream",
     "text": [
      "                            OLS Regression Results                            \n",
      "==============================================================================\n",
      "Dep. Variable:                  birth   R-squared:                       0.584\n",
      "Model:                            OLS   Adj. R-squared:                  0.584\n",
      "Method:                 Least Squares   F-statistic:                     2289.\n",
      "Date:                Mon, 29 Oct 2018   Prob (F-statistic):               0.00\n",
      "Time:                        23:47:02   Log-Likelihood:                -33945.\n",
      "No. Observations:               26110   AIC:                         6.792e+04\n",
      "Df Residuals:                   26093   BIC:                         6.806e+04\n",
      "Df Model:                          16                                         \n",
      "Covariance Type:            nonrobust                                         \n",
      "======================================================================================\n",
      "                         coef    std err          t      P>|t|      [0.025      0.975]\n",
      "--------------------------------------------------------------------------------------\n",
      "const                  1.9458      0.054     36.150      0.000       1.840       2.051\n",
      "domain                -0.0365      0.007     -5.298      0.000      -0.050      -0.023\n",
      "wealth                 0.0085      0.006      1.527      0.127      -0.002       0.019\n",
      "age                    0.0499      0.001     49.523      0.000       0.048       0.052\n",
      "age_when_married      -0.0573      0.002    -26.512      0.000      -0.062      -0.053\n",
      "school                -0.0995      0.019     -5.201      0.000      -0.137      -0.062\n",
      "class                 -0.0366      0.002    -15.792      0.000      -0.041      -0.032\n",
      "working               -0.1410      0.014    -10.237      0.000      -0.168      -0.114\n",
      "tv                    -0.1069      0.019     -5.758      0.000      -0.143      -0.071\n",
      "asha                   0.0402      0.019      2.099      0.036       0.003       0.078\n",
      "born_place             0.0172      0.004      4.473      0.000       0.010       0.025\n",
      "want_child            -0.7649      0.015    -49.907      0.000      -0.795      -0.735\n",
      "method                 0.1458      0.014     10.767      0.000       0.119       0.172\n",
      "died                   0.6244      0.009     72.140      0.000       0.607       0.641\n",
      "first_child_gender     0.1112      0.011      9.922      0.000       0.089       0.133\n",
      "children_away          0.3974      0.016     24.829      0.000       0.366       0.429\n",
      "boys_died              0.3078      0.015     20.058      0.000       0.278       0.338\n",
      "girls_died             0.3166      0.017     18.920      0.000       0.284       0.349\n",
      "==============================================================================\n",
      "Omnibus:                     4461.715   Durbin-Watson:                   1.844\n",
      "Prob(Omnibus):                  0.000   Jarque-Bera (JB):            16032.970\n",
      "Skew:                           0.840   Prob(JB):                         0.00\n",
      "Kurtosis:                       6.451   Cond. No.                     3.33e+17\n",
      "==============================================================================\n",
      "\n",
      "Warnings:\n",
      "[1] Standard Errors assume that the covariance matrix of the errors is correctly specified.\n",
      "[2] The smallest eigenvalue is 3.32e-28. This might indicate that there are\n",
      "strong multicollinearity problems or that the design matrix is singular.\n"
     ]
    }
   ],
   "source": [
    "X2 = sm.add_constant(X)\n",
    "est = sm.OLS(y, X2)\n",
    "est2 = est.fit()\n",
    "print(est2.summary())"
   ]
  },
  {
   "cell_type": "code",
   "execution_count": null,
   "metadata": {},
   "outputs": [],
   "source": []
  },
  {
   "cell_type": "code",
   "execution_count": null,
   "metadata": {},
   "outputs": [],
   "source": []
  }
 ],
 "metadata": {
  "kernelspec": {
   "display_name": "Python 3",
   "language": "python",
   "name": "python3"
  },
  "language_info": {
   "codemirror_mode": {
    "name": "ipython",
    "version": 3
   },
   "file_extension": ".py",
   "mimetype": "text/x-python",
   "name": "python",
   "nbconvert_exporter": "python",
   "pygments_lexer": "ipython3",
   "version": "3.5.2"
  }
 },
 "nbformat": 4,
 "nbformat_minor": 2
}
