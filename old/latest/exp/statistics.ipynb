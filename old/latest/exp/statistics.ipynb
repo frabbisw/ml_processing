{
 "cells": [
  {
   "cell_type": "code",
   "execution_count": 38,
   "metadata": {},
   "outputs": [],
   "source": [
    "# Render our plots inline\n",
    "%matplotlib inline\n",
    "\n",
    "import numpy as np\n",
    "import math\n",
    "import pandas as pd"
   ]
  },
  {
   "cell_type": "code",
   "execution_count": 39,
   "metadata": {},
   "outputs": [],
   "source": [
    "import matplotlib.pyplot as plt"
   ]
  },
  {
   "cell_type": "code",
   "execution_count": 40,
   "metadata": {},
   "outputs": [],
   "source": [
    "from sklearn.linear_model import LinearRegression\n",
    "from sklearn.cross_validation import train_test_split\n",
    "from sklearn import metrics"
   ]
  },
  {
   "cell_type": "code",
   "execution_count": 41,
   "metadata": {},
   "outputs": [],
   "source": [
    "import statsmodels.api as sm\n",
    "from scipy import stats"
   ]
  },
  {
   "cell_type": "code",
   "execution_count": 42,
   "metadata": {},
   "outputs": [],
   "source": [
    "dec_name='birth'\n",
    "feat_names = list(birthrate.columns)\n",
    "dec_names = [dec_name]"
   ]
  },
  {
   "cell_type": "code",
   "execution_count": 43,
   "metadata": {},
   "outputs": [],
   "source": [
    "feat_names.remove(dec_name)"
   ]
  },
  {
   "cell_type": "code",
   "execution_count": 44,
   "metadata": {},
   "outputs": [],
   "source": [
    "X = birthrate[feat_names]\n",
    "y = birthrate[dec_names]"
   ]
  },
  {
   "cell_type": "code",
   "execution_count": 45,
   "metadata": {},
   "outputs": [],
   "source": [
    "X_train, X_test, y_train, y_test = train_test_split(X, y)"
   ]
  },
  {
   "cell_type": "code",
   "execution_count": 46,
   "metadata": {},
   "outputs": [
    {
     "data": {
      "text/plain": [
       "LinearRegression(copy_X=True, fit_intercept=True, n_jobs=1, normalize=True)"
      ]
     },
     "execution_count": 46,
     "metadata": {},
     "output_type": "execute_result"
    }
   ],
   "source": [
    "linreg = LinearRegression(normalize=True)\n",
    "linreg.fit(X_train, y_train)"
   ]
  },
  {
   "cell_type": "code",
   "execution_count": 47,
   "metadata": {},
   "outputs": [
    {
     "name": "stdout",
     "output_type": "stream",
     "text": [
      "[1.04292946e+13]\n",
      "[[ 2.10524206e-02  5.00373018e-02 -5.79611591e-02 -8.37877377e-02\n",
      "  -3.85920655e-02 -1.33213078e-01 -1.18105067e-01  3.89180763e-02\n",
      "  -7.69005759e-01  1.42654584e-01  2.02826146e+11  3.90801490e-01\n",
      "  -2.02826146e+11 -2.02826146e+11 -1.16123179e+13 -1.16123179e+13\n",
      "  -1.16123179e+13  1.18302332e+12  1.18302332e+12  1.18302332e+12\n",
      "   1.18302332e+12  1.18302332e+12 -1.08259034e-01]]\n"
     ]
    }
   ],
   "source": [
    "print(linreg.intercept_)\n",
    "print(linreg.coef_)"
   ]
  },
  {
   "cell_type": "code",
   "execution_count": 48,
   "metadata": {},
   "outputs": [],
   "source": [
    "y_pred = linreg.predict(X_test)"
   ]
  },
  {
   "cell_type": "code",
   "execution_count": 49,
   "metadata": {},
   "outputs": [
    {
     "data": {
      "text/plain": [
       "0.6419991885914522"
      ]
     },
     "execution_count": 49,
     "metadata": {},
     "output_type": "execute_result"
    }
   ],
   "source": [
    "metrics.mean_absolute_error(y_test, y_pred)"
   ]
  },
  {
   "cell_type": "code",
   "execution_count": 50,
   "metadata": {},
   "outputs": [
    {
     "data": {
      "text/plain": [
       "0.8106869418247074"
      ]
     },
     "execution_count": 50,
     "metadata": {},
     "output_type": "execute_result"
    }
   ],
   "source": [
    "metrics.mean_squared_error(y_test, y_pred)"
   ]
  },
  {
   "cell_type": "code",
   "execution_count": 51,
   "metadata": {},
   "outputs": [
    {
     "data": {
      "text/plain": [
       "0.8012485186204417"
      ]
     },
     "execution_count": 51,
     "metadata": {},
     "output_type": "execute_result"
    }
   ],
   "source": [
    "np.sqrt(metrics.mean_absolute_error(y_test, y_pred))"
   ]
  },
  {
   "cell_type": "code",
   "execution_count": 52,
   "metadata": {},
   "outputs": [
    {
     "name": "stdout",
     "output_type": "stream",
     "text": [
      "                            OLS Regression Results                            \n",
      "==============================================================================\n",
      "Dep. Variable:                  birth   R-squared:                       0.584\n",
      "Model:                            OLS   Adj. R-squared:                  0.584\n",
      "Method:                 Least Squares   F-statistic:                     1831.\n",
      "Date:                Mon, 29 Oct 2018   Prob (F-statistic):               0.00\n",
      "Time:                        22:26:41   Log-Likelihood:                -33942.\n",
      "No. Observations:               26110   AIC:                         6.793e+04\n",
      "Df Residuals:                   26089   BIC:                         6.810e+04\n",
      "Df Model:                          20                                         \n",
      "Covariance Type:            nonrobust                                         \n",
      "==========================================================================================\n",
      "                             coef    std err          t      P>|t|      [0.025      0.975]\n",
      "------------------------------------------------------------------------------------------\n",
      "const                      1.3835      0.035     39.531      0.000       1.315       1.452\n",
      "wealth                     0.0104      0.006      1.786      0.074      -0.001       0.022\n",
      "age                        0.0499      0.001     49.540      0.000       0.048       0.052\n",
      "age_when_married          -0.0573      0.002    -26.446      0.000      -0.061      -0.053\n",
      "school                    -0.1007      0.019     -5.257      0.000      -0.138      -0.063\n",
      "class                     -0.0364      0.002    -15.677      0.000      -0.041      -0.032\n",
      "working                   -0.1410      0.014    -10.230      0.000      -0.168      -0.114\n",
      "tv                        -0.1075      0.019     -5.783      0.000      -0.144      -0.071\n",
      "asha                       0.0395      0.019      2.063      0.039       0.002       0.077\n",
      "more                      -0.7650      0.015    -49.911      0.000      -0.795      -0.735\n",
      "method                     0.1453      0.014     10.730      0.000       0.119       0.172\n",
      "died                       0.6241      0.009     72.093      0.000       0.607       0.641\n",
      "children_away              0.3966      0.016     24.774      0.000       0.365       0.428\n",
      "boys_died                  0.3076      0.015     20.046      0.000       0.277       0.338\n",
      "girls_died                 0.3165      0.017     18.914      0.000       0.284       0.349\n",
      "domain_1                   0.5030      0.014     37.028      0.000       0.476       0.530\n",
      "domain_2                   0.4523      0.016     28.176      0.000       0.421       0.484\n",
      "domain_3                   0.4282      0.014     30.486      0.000       0.401       0.456\n",
      "born_1.0                   0.2613      0.021     12.159      0.000       0.219       0.303\n",
      "born_2.0                   0.2613      0.026     10.033      0.000       0.210       0.312\n",
      "born_3.0                   0.2142      0.037      5.825      0.000       0.142       0.286\n",
      "born_4.0                   0.3150      0.021     14.875      0.000       0.274       0.357\n",
      "born_9.0                   0.3316      0.084      3.934      0.000       0.166       0.497\n",
      "first_child_gender_1.0    -0.1112      0.011     -9.927      0.000      -0.133      -0.089\n",
      "==============================================================================\n",
      "Omnibus:                     4460.146   Durbin-Watson:                   1.844\n",
      "Prob(Omnibus):                  0.000   Jarque-Bera (JB):            16026.962\n",
      "Skew:                           0.840   Prob(JB):                         0.00\n",
      "Kurtosis:                       6.451   Cond. No.                     5.58e+17\n",
      "==============================================================================\n",
      "\n",
      "Warnings:\n",
      "[1] Standard Errors assume that the covariance matrix of the errors is correctly specified.\n",
      "[2] The smallest eigenvalue is 1.18e-28. This might indicate that there are\n",
      "strong multicollinearity problems or that the design matrix is singular.\n"
     ]
    }
   ],
   "source": [
    "X2 = sm.add_constant(X)\n",
    "est = sm.OLS(y, X2)\n",
    "est2 = est.fit()\n",
    "print(est2.summary())"
   ]
  },
  {
   "cell_type": "code",
   "execution_count": null,
   "metadata": {},
   "outputs": [],
   "source": []
  },
  {
   "cell_type": "code",
   "execution_count": null,
   "metadata": {},
   "outputs": [],
   "source": []
  }
 ],
 "metadata": {
  "kernelspec": {
   "display_name": "Python 3",
   "language": "python",
   "name": "python3"
  },
  "language_info": {
   "codemirror_mode": {
    "name": "ipython",
    "version": 3
   },
   "file_extension": ".py",
   "mimetype": "text/x-python",
   "name": "python",
   "nbconvert_exporter": "python",
   "pygments_lexer": "ipython3",
   "version": "3.5.2"
  }
 },
 "nbformat": 4,
 "nbformat_minor": 2
}
