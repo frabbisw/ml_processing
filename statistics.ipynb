{
 "cells": [
  {
   "cell_type": "code",
   "execution_count": 1,
   "metadata": {},
   "outputs": [
    {
     "name": "stderr",
     "output_type": "stream",
     "text": [
      "/usr/local/lib/python3.5/dist-packages/sklearn/cross_validation.py:41: DeprecationWarning: This module was deprecated in version 0.18 in favor of the model_selection module into which all the refactored classes and functions are moved. Also note that the interface of the new CV iterators are different from that of this module. This module will be removed in 0.20.\n",
      "  \"This module will be removed in 0.20.\", DeprecationWarning)\n"
     ]
    },
    {
     "data": {
      "text/plain": [
       "LinearRegression(copy_X=True, fit_intercept=True, n_jobs=1, normalize=True)"
      ]
     },
     "execution_count": 1,
     "metadata": {},
     "output_type": "execute_result"
    }
   ],
   "source": [
    "# Render our plots inline\n",
    "%matplotlib inline\n",
    "\n",
    "import numpy as np\n",
    "import math\n",
    "import pandas as pd\n",
    "\n",
    "import matplotlib.pyplot as plt\n",
    "\n",
    "from sklearn.linear_model import LinearRegression\n",
    "from sklearn.cross_validation import train_test_split\n",
    "from sklearn import metrics\n",
    "\n",
    "import statsmodels.api as sm\n",
    "from scipy import stats\n",
    "\n",
    "birthrate = pd.read_csv(\"birth_stat_norm.csv\")\n",
    "\n",
    "dec_name='birth'\n",
    "feat_names = list(birthrate.columns)\n",
    "dec_names = [dec_name]\n",
    "\n",
    "feat_names.remove(dec_name)\n",
    "\n",
    "X = birthrate[feat_names]\n",
    "y = birthrate[dec_names]\n",
    "\n",
    "X_train, X_test, y_train, y_test = train_test_split(X, y)\n",
    "\n",
    "linreg = LinearRegression(normalize=True)\n",
    "linreg.fit(X_train, y_train)"
   ]
  },
  {
   "cell_type": "code",
   "execution_count": 2,
   "metadata": {},
   "outputs": [
    {
     "name": "stdout",
     "output_type": "stream",
     "text": [
      "[-2.94784907e+11]\n",
      "[[ 3.62261854e-03  1.24622471e-01 -1.08448831e-01 -7.05869004e-03\n",
      "  -4.78912670e-02 -9.54148521e-03 -6.54494103e-03  4.07852333e-03\n",
      "  -5.51664647e-02  1.03070740e-02 -2.46027542e+04 -7.80911091e-03\n",
      "   2.82320246e-02  1.56567648e+04  1.11834000e+04  2.01753575e+11\n",
      "   2.01753575e+11  2.01753575e+11  9.30313315e+10  9.30313315e+10\n",
      "   9.30313315e+10  9.30313315e+10  9.30313315e+10]]\n"
     ]
    }
   ],
   "source": [
    "print(linreg.intercept_)\n",
    "print(linreg.coef_)"
   ]
  },
  {
   "cell_type": "code",
   "execution_count": 3,
   "metadata": {},
   "outputs": [],
   "source": [
    "y_pred = linreg.predict(X_test)"
   ]
  },
  {
   "cell_type": "code",
   "execution_count": 4,
   "metadata": {},
   "outputs": [
    {
     "data": {
      "text/plain": [
       "0.044863159292782055"
      ]
     },
     "execution_count": 4,
     "metadata": {},
     "output_type": "execute_result"
    }
   ],
   "source": [
    "metrics.mean_absolute_error(y_test, y_pred)"
   ]
  },
  {
   "cell_type": "code",
   "execution_count": 5,
   "metadata": {},
   "outputs": [
    {
     "data": {
      "text/plain": [
       "0.044863159292782055"
      ]
     },
     "execution_count": 5,
     "metadata": {},
     "output_type": "execute_result"
    }
   ],
   "source": [
    "metrics.mean_absolute_error(y_test, y_pred)"
   ]
  },
  {
   "cell_type": "code",
   "execution_count": 6,
   "metadata": {},
   "outputs": [
    {
     "data": {
      "text/plain": [
       "0.0039813228093643445"
      ]
     },
     "execution_count": 6,
     "metadata": {},
     "output_type": "execute_result"
    }
   ],
   "source": [
    "metrics.mean_squared_error(y_test, y_pred)"
   ]
  },
  {
   "cell_type": "code",
   "execution_count": 7,
   "metadata": {},
   "outputs": [
    {
     "data": {
      "text/plain": [
       "birth    0.003981\n",
       "dtype: float64"
      ]
     },
     "execution_count": 7,
     "metadata": {},
     "output_type": "execute_result"
    }
   ],
   "source": [
    "((y_test - y_pred) ** 2).sum()/len(y_test)"
   ]
  },
  {
   "cell_type": "code",
   "execution_count": 8,
   "metadata": {},
   "outputs": [
    {
     "data": {
      "text/plain": [
       "0.21180925214159568"
      ]
     },
     "execution_count": 8,
     "metadata": {},
     "output_type": "execute_result"
    }
   ],
   "source": [
    "np.sqrt(metrics.mean_absolute_error(y_test, y_pred))"
   ]
  },
  {
   "cell_type": "code",
   "execution_count": 9,
   "metadata": {},
   "outputs": [
    {
     "name": "stdout",
     "output_type": "stream",
     "text": [
      "const                 1.477625e-253\n",
      "wealth                 7.416742e-02\n",
      "age                    0.000000e+00\n",
      "age_when_married      4.162285e-152\n",
      "school                 1.474900e-07\n",
      "upto_class             3.898413e-55\n",
      "working                1.614695e-24\n",
      "tv                     7.408109e-09\n",
      "asha                   3.915153e-02\n",
      "want_child             0.000000e+00\n",
      "method                 8.391247e-27\n",
      "died                   9.907732e-01\n",
      "first_child_gender     3.490844e-23\n",
      "children_away         6.164317e-134\n",
      "boys_died              9.907958e-01\n",
      "girls_died             9.907960e-01\n",
      "domain_1              7.983784e-191\n",
      "domain_2               4.024018e-99\n",
      "domain_3              1.977028e-110\n",
      "born_place_1           6.313785e-15\n",
      "born_place_2           1.742093e-10\n",
      "born_place_3           1.405358e-03\n",
      "born_place_4           1.164343e-25\n",
      "born_place_9           5.438520e-03\n",
      "dtype: float64\n"
     ]
    }
   ],
   "source": [
    "X2 = sm.add_constant(X)\n",
    "est = sm.OLS(y, X2)\n",
    "est2 = est.fit()\n",
    "print(est2.pvalues)"
   ]
  },
  {
   "cell_type": "code",
   "execution_count": 10,
   "metadata": {},
   "outputs": [
    {
     "name": "stdout",
     "output_type": "stream",
     "text": [
      "                            OLS Regression Results                            \n",
      "==============================================================================\n",
      "Dep. Variable:                  birth   R-squared:                       0.584\n",
      "Model:                            OLS   Adj. R-squared:                  0.584\n",
      "Method:                 Least Squares   F-statistic:                     1744.\n",
      "Date:                Sat, 10 Nov 2018   Prob (F-statistic):               0.00\n",
      "Time:                        19:07:06   Log-Likelihood:                 34964.\n",
      "No. Observations:               26110   AIC:                        -6.988e+04\n",
      "Df Residuals:                   26088   BIC:                        -6.970e+04\n",
      "Df Model:                          21                                         \n",
      "Covariance Type:            nonrobust                                         \n",
      "======================================================================================\n",
      "                         coef    std err          t      P>|t|      [0.025      0.975]\n",
      "--------------------------------------------------------------------------------------\n",
      "const                  0.0639      0.002     34.393      0.000       0.060       0.068\n",
      "wealth                 0.0030      0.002      1.786      0.074      -0.000       0.006\n",
      "age                    0.1247      0.003     49.531      0.000       0.120       0.130\n",
      "age_when_married      -0.1104      0.004    -26.446      0.000      -0.119      -0.102\n",
      "school                -0.0072      0.001     -5.257      0.000      -0.010      -0.005\n",
      "upto_class            -0.0468      0.003    -15.677      0.000      -0.053      -0.041\n",
      "working               -0.0101      0.001    -10.230      0.000      -0.012      -0.008\n",
      "tv                    -0.0077      0.001     -5.783      0.000      -0.010      -0.005\n",
      "asha                   0.0028      0.001      2.063      0.039       0.000       0.006\n",
      "want_child            -0.0546      0.001    -49.907      0.000      -0.057      -0.052\n",
      "method                 0.0104      0.001     10.730      0.000       0.008       0.012\n",
      "died                 298.9690   2.59e+04      0.012      0.991   -5.04e+04     5.1e+04\n",
      "first_child_gender    -0.0079      0.001     -9.927      0.000      -0.010      -0.006\n",
      "children_away          0.0283      0.001     24.773      0.000       0.026       0.031\n",
      "boys_died           -189.7872   1.65e+04     -0.012      0.991   -3.24e+04    3.21e+04\n",
      "girls_died          -135.5589   1.18e+04     -0.012      0.991   -2.32e+04    2.29e+04\n",
      "domain_1               0.0243      0.001     29.713      0.000       0.023       0.026\n",
      "domain_2               0.0207      0.001     21.223      0.000       0.019       0.023\n",
      "domain_3               0.0190      0.001     22.435      0.000       0.017       0.021\n",
      "born_place_1           0.0117      0.001      7.802      0.000       0.009       0.015\n",
      "born_place_2           0.0117      0.002      6.385      0.000       0.008       0.015\n",
      "born_place_3           0.0083      0.003      3.194      0.001       0.003       0.013\n",
      "born_place_4           0.0155      0.001     10.483      0.000       0.013       0.018\n",
      "born_place_9           0.0167      0.006      2.780      0.005       0.005       0.028\n",
      "==============================================================================\n",
      "Omnibus:                     4460.168   Durbin-Watson:                   1.844\n",
      "Prob(Omnibus):                  0.000   Jarque-Bera (JB):            16027.117\n",
      "Skew:                           0.840   Prob(JB):                         0.00\n",
      "Kurtosis:                       6.451   Cond. No.                     1.74e+16\n",
      "==============================================================================\n",
      "\n",
      "Warnings:\n",
      "[1] Standard Errors assume that the covariance matrix of the errors is correctly specified.\n",
      "[2] The smallest eigenvalue is 4.24e-28. This might indicate that there are\n",
      "strong multicollinearity problems or that the design matrix is singular.\n"
     ]
    }
   ],
   "source": [
    "print(est2.summary())"
   ]
  },
  {
   "cell_type": "code",
   "execution_count": null,
   "metadata": {},
   "outputs": [],
   "source": []
  }
 ],
 "metadata": {
  "kernelspec": {
   "display_name": "Python 3",
   "language": "python",
   "name": "python3"
  },
  "language_info": {
   "codemirror_mode": {
    "name": "ipython",
    "version": 3
   },
   "file_extension": ".py",
   "mimetype": "text/x-python",
   "name": "python",
   "nbconvert_exporter": "python",
   "pygments_lexer": "ipython3",
   "version": "3.5.2"
  }
 },
 "nbformat": 4,
 "nbformat_minor": 2
}
